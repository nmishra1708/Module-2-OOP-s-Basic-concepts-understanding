{
 "cells": [
  {
   "cell_type": "markdown",
   "metadata": {},
   "source": [
    "# Introduction"
   ]
  },
  {
   "cell_type": "code",
   "execution_count": 3,
   "metadata": {},
   "outputs": [],
   "source": [
    "# What is OOPs?\n",
    "# Real life example of OOP -> Human being ->1.Male 2.Female"
   ]
  },
  {
   "cell_type": "code",
   "execution_count": 2,
   "metadata": {},
   "outputs": [],
   "source": [
    "# Basic principles of OOPs\n",
    "# 1. class\n",
    "# 2. object\n",
    "# 3. inheritance\n",
    "# 4. polymorphism"
   ]
  },
  {
   "cell_type": "code",
   "execution_count": 5,
   "metadata": {},
   "outputs": [],
   "source": [
    "# How to create class in python\n",
    "'''\n",
    "syntax:\n",
    "class name_of_class:\n",
    "    stm1\n",
    "    .\n",
    "    .\n",
    "    .\n",
    "    stm2\n",
    "'''\n",
    "class className:\n",
    "    variable = \"I am a class attribute\"\n",
    "    def function(self):\n",
    "        print(\"I am from inside the class\")"
   ]
  },
  {
   "cell_type": "code",
   "execution_count": 7,
   "metadata": {},
   "outputs": [],
   "source": [
    "obj1 = className()\n",
    "obj2 = className()"
   ]
  },
  {
   "cell_type": "code",
   "execution_count": 8,
   "metadata": {},
   "outputs": [],
   "source": [
    "obj2.variable = 'I was just created'"
   ]
  },
  {
   "cell_type": "code",
   "execution_count": 10,
   "metadata": {},
   "outputs": [
    {
     "data": {
      "text/plain": [
       "'I am a class attribute'"
      ]
     },
     "execution_count": 10,
     "metadata": {},
     "output_type": "execute_result"
    }
   ],
   "source": [
    "obj1.variable"
   ]
  },
  {
   "cell_type": "code",
   "execution_count": 11,
   "metadata": {},
   "outputs": [
    {
     "data": {
      "text/plain": [
       "'I was just created'"
      ]
     },
     "execution_count": 11,
     "metadata": {},
     "output_type": "execute_result"
    }
   ],
   "source": [
    "obj2.variable"
   ]
  },
  {
   "cell_type": "code",
   "execution_count": 12,
   "metadata": {},
   "outputs": [
    {
     "data": {
      "text/plain": [
       "'I am a class attribute'"
      ]
     },
     "execution_count": 12,
     "metadata": {},
     "output_type": "execute_result"
    }
   ],
   "source": [
    "className.variable"
   ]
  },
  {
   "cell_type": "code",
   "execution_count": 13,
   "metadata": {},
   "outputs": [
    {
     "name": "stdout",
     "output_type": "stream",
     "text": [
      "I am from inside the class\n"
     ]
    }
   ],
   "source": [
    "obj1.function()"
   ]
  },
  {
   "cell_type": "code",
   "execution_count": 14,
   "metadata": {},
   "outputs": [
    {
     "name": "stdout",
     "output_type": "stream",
     "text": [
      "I am from inside the class\n"
     ]
    }
   ],
   "source": [
    "obj2.function()"
   ]
  },
  {
   "cell_type": "markdown",
   "metadata": {},
   "source": [
    "# Constructor in Python"
   ]
  },
  {
   "cell_type": "code",
   "execution_count": 15,
   "metadata": {},
   "outputs": [],
   "source": [
    "class student(object):\n",
    "    def __init__(self, name, branch, year):\n",
    "        self.name = name\n",
    "        self.branch = branch\n",
    "        self.year = year\n",
    "        print(\"Student object is created\")\n",
    "        \n",
    "    def print_details(self):\n",
    "        print(\"Name:\", self.name)\n",
    "        print(\"branch:\", self.branch)\n",
    "        print(\"year:\", self.year)"
   ]
  },
  {
   "cell_type": "code",
   "execution_count": 16,
   "metadata": {},
   "outputs": [
    {
     "name": "stdout",
     "output_type": "stream",
     "text": [
      "Student object is created\n"
     ]
    }
   ],
   "source": [
    "harry = student('Harry','CSE',2002)"
   ]
  },
  {
   "cell_type": "code",
   "execution_count": 17,
   "metadata": {},
   "outputs": [
    {
     "name": "stdout",
     "output_type": "stream",
     "text": [
      "Name: Harry\n",
      "branch: CSE\n",
      "year: 2002\n"
     ]
    }
   ],
   "source": [
    "harry.print_details()"
   ]
  },
  {
   "cell_type": "code",
   "execution_count": 18,
   "metadata": {},
   "outputs": [
    {
     "data": {
      "text/plain": [
       "'\\nCreate two new vehicles called car1 and car2.\\nset car1 to red, convertible worth $70000 with a name FERRARI\\nand car2 to be a blue van named JEEP worth $150000.\\n'"
      ]
     },
     "execution_count": 18,
     "metadata": {},
     "output_type": "execute_result"
    }
   ],
   "source": [
    "#------------------------Example--------------------------------\n",
    "'''\n",
    "Create two new vehicles called car1 and car2.\n",
    "set car1 to red, convertible worth $70000 with a name FERRARI\n",
    "and car2 to be a blue van named JEEP worth $150000.\n",
    "'''"
   ]
  },
  {
   "cell_type": "code",
   "execution_count": 19,
   "metadata": {},
   "outputs": [],
   "source": [
    "class vehicle:\n",
    "    def __init__(self, name, color, price):\n",
    "        self.name = name\n",
    "        self.color = color\n",
    "        self.price = price\n",
    "    def description(self):\n",
    "        print(f\"name of car is {self.name}, color of car {self.color} and price of car is ${self.price}\")"
   ]
  },
  {
   "cell_type": "code",
   "execution_count": 20,
   "metadata": {},
   "outputs": [],
   "source": [
    "car1 = vehicle('Ferrari', 'red', 7000)\n",
    "car2 = vehicle('jeep', 'blue', 15000)"
   ]
  },
  {
   "cell_type": "code",
   "execution_count": 21,
   "metadata": {},
   "outputs": [
    {
     "name": "stdout",
     "output_type": "stream",
     "text": [
      "name of car is Ferrari, color of car red and price of car is 7000\n"
     ]
    }
   ],
   "source": [
    "car1.description()"
   ]
  },
  {
   "cell_type": "code",
   "execution_count": 22,
   "metadata": {},
   "outputs": [
    {
     "name": "stdout",
     "output_type": "stream",
     "text": [
      "name of car is jeep, color of car blue and price of car is 15000\n"
     ]
    }
   ],
   "source": [
    "car2.description()"
   ]
  },
  {
   "cell_type": "markdown",
   "metadata": {},
   "source": [
    "# Inheritance in Python"
   ]
  },
  {
   "cell_type": "code",
   "execution_count": 23,
   "metadata": {},
   "outputs": [],
   "source": [
    "# Inheritance -> \"One class acquring the property of another class\"\n",
    "# Example ->  you have inherited qualities from your parents.\n",
    "# Type of inheritance\n",
    "# 1. Single\n",
    "# 2. Multiple\n",
    "# 3. Multilevel\n",
    "# 4. Hierarchical \n",
    "# 5. Hybrid"
   ]
  },
  {
   "cell_type": "code",
   "execution_count": 24,
   "metadata": {},
   "outputs": [
    {
     "name": "stdout",
     "output_type": "stream",
     "text": [
      "I'am a fruit\n",
      "I am citrus\n"
     ]
    }
   ],
   "source": [
    "#-------------------Single Inheritance---------------------\n",
    "class fruit:\n",
    "    def __init__(self):\n",
    "        print(\"I'am a fruit\")\n",
    "class citrus(fruit):\n",
    "    def __init__(self):\n",
    "        super().__init__()\n",
    "        print(\"I am citrus\")\n",
    "        \n",
    "lemon = citrus()"
   ]
  },
  {
   "cell_type": "code",
   "execution_count": 25,
   "metadata": {},
   "outputs": [
    {
     "data": {
      "text/plain": [
       "True"
      ]
     },
     "execution_count": 25,
     "metadata": {},
     "output_type": "execute_result"
    }
   ],
   "source": [
    "#------------------Multiple Inheritance-----------------------------\n",
    "class A:\n",
    "    pass\n",
    "class B:\n",
    "    pass\n",
    "class C(A, B):\n",
    "    pass\n",
    "issubclass(C, A) and issubclass(C, B)"
   ]
  },
  {
   "cell_type": "code",
   "execution_count": 26,
   "metadata": {},
   "outputs": [
    {
     "data": {
      "text/plain": [
       "1"
      ]
     },
     "execution_count": 26,
     "metadata": {},
     "output_type": "execute_result"
    }
   ],
   "source": [
    "#--------------------Multilevel Inheritance---------------------------\n",
    "class A:\n",
    "    x=1\n",
    "class B(A):\n",
    "    pass\n",
    "class C(B):\n",
    "    pass\n",
    "obj1 = C()\n",
    "obj1.x"
   ]
  },
  {
   "cell_type": "code",
   "execution_count": 27,
   "metadata": {},
   "outputs": [
    {
     "data": {
      "text/plain": [
       "True"
      ]
     },
     "execution_count": 27,
     "metadata": {},
     "output_type": "execute_result"
    }
   ],
   "source": [
    "#-------------------Hierarchical Inheritance-----------------------------\n",
    "class A:\n",
    "    pass\n",
    "class B(A):\n",
    "    pass\n",
    "class C(A):\n",
    "    pass\n",
    "class D(A):\n",
    "    pass\n",
    "issubclass(B, A) and issubclass(C, A) and issubclass(D, A)"
   ]
  },
  {
   "cell_type": "code",
   "execution_count": 28,
   "metadata": {},
   "outputs": [
    {
     "data": {
      "text/plain": [
       "1"
      ]
     },
     "execution_count": 28,
     "metadata": {},
     "output_type": "execute_result"
    }
   ],
   "source": [
    "#---------------------Hybrid Inheritance---------------------------\n",
    "class A:\n",
    "    x = 1\n",
    "class B(A):\n",
    "    pass\n",
    "class C(A):\n",
    "    pass\n",
    "class D(B, C):\n",
    "    pass\n",
    "obj = D()\n",
    "obj.x"
   ]
  },
  {
   "cell_type": "code",
   "execution_count": 31,
   "metadata": {},
   "outputs": [
    {
     "name": "stdout",
     "output_type": "stream",
     "text": [
      "Starting Engine\n",
      "I have two wheels\n",
      "Stop Engine\n"
     ]
    }
   ],
   "source": [
    "#------------------------using Super() function in inheritance---------------------------\n",
    "\"Used to call a method from the parent class\"\n",
    "class vehicle:\n",
    "    def start(self):\n",
    "        print(\"Starting Engine\")\n",
    "    def stop(self):\n",
    "        print(\"Stop Engine\")\n",
    "        \n",
    "class TwoWheele(vehicle):\n",
    "    def say(self):\n",
    "        super().start()\n",
    "        print(\"I have two wheels\")\n",
    "        super().stop()\n",
    "        \n",
    "Scooty = TwoWheele()\n",
    "Scooty.say()"
   ]
  },
  {
   "cell_type": "code",
   "execution_count": 32,
   "metadata": {},
   "outputs": [],
   "source": [
    "#------------------------------Overriding Vs Overloading----------------------------------------\n",
    "\"Developers sometimes get confused between them\"\n",
    "\n",
    "#------------------------------Overloading------------------------------\n",
    "\"Same function with differnt parameterize\"\n",
    "# Why overload a function?\n",
    "def add(a, b):\n",
    "    \"wrong method not work correctly\"\n",
    "    return a+b\n",
    "def add(a, b, c):\n",
    "    return a+b+c\n"
   ]
  },
  {
   "cell_type": "code",
   "execution_count": 34,
   "metadata": {},
   "outputs": [
    {
     "data": {
      "text/plain": [
       "8"
      ]
     },
     "execution_count": 34,
     "metadata": {},
     "output_type": "execute_result"
    }
   ],
   "source": [
    "add(2,3,3)"
   ]
  },
  {
   "cell_type": "code",
   "execution_count": 36,
   "metadata": {},
   "outputs": [
    {
     "data": {
      "text/plain": [
       "12"
      ]
     },
     "execution_count": 36,
     "metadata": {},
     "output_type": "execute_result"
    }
   ],
   "source": [
    "#-----How to overload a function------------\n",
    "def add(instanceof, *args):\n",
    "    if instanceof == 'int':\n",
    "        result = 0\n",
    "    if instanceof == 'str':\n",
    "        result = \" \"\n",
    "    for i in args:\n",
    "        result +=i\n",
    "    return result\n",
    "\n",
    "add('int', 3, 4, 5)"
   ]
  },
  {
   "cell_type": "code",
   "execution_count": 38,
   "metadata": {},
   "outputs": [
    {
     "name": "stdout",
     "output_type": "stream",
     "text": [
      "i'm in A\n",
      "I'm in B\n"
     ]
    }
   ],
   "source": [
    "#----------------How to implement overriding---------------------\n",
    "class A:\n",
    "    def sayhi(self):\n",
    "        print(\"i'm in A\")\n",
    "class B:\n",
    "    def sayhi(self):\n",
    "        print(\"I'm in B\")\n",
    "        \n",
    "obj = B()\n",
    "obj1 =A()\n",
    "obj1.sayhi()\n",
    "obj.sayhi()"
   ]
  },
  {
   "cell_type": "code",
   "execution_count": 42,
   "metadata": {},
   "outputs": [
    {
     "name": "stdout",
     "output_type": "stream",
     "text": [
      "123\n",
      "123\n"
     ]
    }
   ],
   "source": [
    "#----------------------Encapsulation in python(Abstraction+Data Hiding)--------------------------\n",
    "class Encap(object):\n",
    "    def __init__(self):\n",
    "        self.a=123\n",
    "        self._b=123\n",
    "        self.__c=123\n",
    "obj = Encap()\n",
    "print(obj.a)\n",
    "print(obj._b)\n",
    "# print(obj.__c) -> you can't access private variable like that"
   ]
  },
  {
   "cell_type": "code",
   "execution_count": 53,
   "metadata": {},
   "outputs": [
    {
     "name": "stdout",
     "output_type": "stream",
     "text": [
      "updating software\n",
      "driving\n",
      "updating software\n"
     ]
    }
   ],
   "source": [
    "#------------------------Private Method-------------------------------\n",
    "class car:\n",
    "    def __init__(self):\n",
    "        self.__updateSoftware()\n",
    "    def drive(self):\n",
    "        print('driving')\n",
    "    def __updateSoftware(self):\n",
    "        print('updating software')\n",
    "        \n",
    "redcar = car()\n",
    "redcar.drive()\n",
    "#redcar.__updateSoftware() -> Incorrect way of calling private method\n",
    "redcar._car__updateSoftware()"
   ]
  },
  {
   "cell_type": "code",
   "execution_count": 57,
   "metadata": {},
   "outputs": [
    {
     "name": "stdout",
     "output_type": "stream",
     "text": [
      "Driving maximum speed is 200\n",
      "Driving maximum speed is 320\n"
     ]
    }
   ],
   "source": [
    "#------------------Private method----------------------\n",
    "class car:\n",
    "    __maxspeed = 0\n",
    "    __name = \" \"\n",
    "    def __init__(self):\n",
    "        self.__maxspeed=200\n",
    "        self.__name='supercar'\n",
    "    def drive(self):\n",
    "        print(\"Driving maximum speed is\", self.__maxspeed)\n",
    "        \n",
    "    def setmaxspeed(self, speed):\n",
    "        self.__maxspeed = speed\n",
    "        \n",
    "        \n",
    "redcar = car()\n",
    "redcar.drive()\n",
    "#redcar.__maxspeed =10 -> will not change variable becouse its private\n",
    "redcar.setmaxspeed(320)\n",
    "redcar.drive()"
   ]
  },
  {
   "cell_type": "code",
   "execution_count": 60,
   "metadata": {},
   "outputs": [],
   "source": [
    "#-----------------------Polymorphism------------------------------------\n",
    "\"A single person behaves differently at differnt time\"\n",
    "class shark:\n",
    "    def swim(self):\n",
    "        print(\"The Shark is swimming\")\n",
    "    def skeleton(self):\n",
    "        print(\"The shark's skeleton is made of cartilage\")\n",
    "        \n",
    "        \n",
    "class clownfish():\n",
    "    def swim(self):\n",
    "        print(\"The clownfish is swimming\")\n",
    "    def skeleton(self):\n",
    "        print(\"The clownfish skeleton is made of bone\")\n",
    "        \n",
    "sammy = shark()\n",
    "casey = clownfish()  "
   ]
  },
  {
   "cell_type": "code",
   "execution_count": 65,
   "metadata": {},
   "outputs": [
    {
     "name": "stdout",
     "output_type": "stream",
     "text": [
      "The Shark is swimming\n",
      "The shark's skeleton is made of cartilage\n",
      "The clownfish is swimming\n",
      "The clownfish skeleton is made of bone\n"
     ]
    }
   ],
   "source": [
    "for fish in (sammy, casey):\n",
    "    fish.swim()\n",
    "    fish.skeleton()"
   ]
  },
  {
   "cell_type": "code",
   "execution_count": 66,
   "metadata": {},
   "outputs": [],
   "source": [
    "def in_the_pacific(fish):\n",
    "    fish.swim()"
   ]
  },
  {
   "cell_type": "code",
   "execution_count": 67,
   "metadata": {},
   "outputs": [],
   "source": [
    "sammy = shark()\n",
    "casey = clownfish() "
   ]
  },
  {
   "cell_type": "code",
   "execution_count": null,
   "metadata": {},
   "outputs": [],
   "source": [
    "in_the_pacific(sammy)\n"
   ]
  }
 ],
 "metadata": {
  "kernelspec": {
   "display_name": "Python 3",
   "language": "python",
   "name": "python3"
  },
  "language_info": {
   "codemirror_mode": {
    "name": "ipython",
    "version": 3
   },
   "file_extension": ".py",
   "mimetype": "text/x-python",
   "name": "python",
   "nbconvert_exporter": "python",
   "pygments_lexer": "ipython3",
   "version": "3.7.4"
  }
 },
 "nbformat": 4,
 "nbformat_minor": 2
}
